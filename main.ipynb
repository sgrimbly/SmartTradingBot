{
 "metadata": {
  "language_info": {
   "codemirror_mode": {
    "name": "ipython",
    "version": 3
   },
   "file_extension": ".py",
   "mimetype": "text/x-python",
   "name": "python",
   "nbconvert_exporter": "python",
   "pygments_lexer": "ipython3",
   "version": "3.7.3"
  },
  "orig_nbformat": 2,
  "kernelspec": {
   "name": "python373jvsc74a57bd05c59d13babb3785341d434f89bea72ce3341ca5629a070890467fed2fa96bf00",
   "display_name": "Python 3.7.3 64-bit ('base': conda)"
  }
 },
 "nbformat": 4,
 "nbformat_minor": 2,
 "cells": [
  {
   "source": [
    "## Main Trading Bot Logic"
   ],
   "cell_type": "markdown",
   "metadata": {}
  },
  {
   "source": [
    "TODO\n",
    "- Allow training on CUDA/GPU \n",
    "- Add tensorboard logging support"
   ],
   "cell_type": "markdown",
   "metadata": {}
  },
  {
   "source": [
    "The first algorithm we will test out is DQN. This is the de facto standard for single agent RL algorithms at this point. \n",
    "\n",
    "<img src=\"DQN.png\" alt=\"drawing\" width=\"700\"/>"
   ],
   "cell_type": "markdown",
   "metadata": {}
  },
  {
   "source": [
    "Before we actually start working on the core algorithm we are going to use for the trading bot, we should probably make sure we can pull the appropriate data and clean it if necessary. Perhaps the most obvious place to start is [Yahoo! Finance](https://finance.yahoo.com/).\n",
    "\n",
    "We will set this up so we can run our algorithm with some input parameters like the ticker code for a stock/crypto and automate the cleaning and training process."
   ],
   "cell_type": "markdown",
   "metadata": {}
  },
  {
   "cell_type": "code",
   "execution_count": 25,
   "metadata": {},
   "outputs": [],
   "source": [
    "import pandas as pd\n",
    "import yfinance as yf\n",
    "from datetime import date"
   ]
  },
  {
   "cell_type": "code",
   "execution_count": 37,
   "metadata": {},
   "outputs": [],
   "source": [
    "# TODO Allow use to specify start/end dats. Currently working with 2021 current data.\n",
    "\n",
    "# auto_adjust=True -> removing Adjust Close column\n",
    "# actions =”inline” -> dowload dividend and splits of stock\n",
    "# ['FB','AAPL',...] -> download data for multiple stocks\n",
    "\n",
    "today = date.today().strftime(\"%Y-%m-%d\")\n",
    "df_yahoo = yf.download(['FB'], start='2021-01-01', end=today, progress=False, auto_adjust=True)"
   ]
  },
  {
   "cell_type": "code",
   "execution_count": 38,
   "metadata": {},
   "outputs": [
    {
     "output_type": "execute_result",
     "data": {
      "text/plain": [
       "                  Open        High         Low       Close    Volume\n",
       "Date                                                                \n",
       "2020-12-31  272.000000  277.089996  269.809998  273.160004  12900400\n",
       "2021-01-04  274.779999  275.000000  265.200012  268.940002  15106100\n",
       "2021-01-05  268.290009  272.399994  268.209991  270.970001   9871600\n",
       "2021-01-06  262.000000  267.750000  260.010010  263.309998  24354100\n",
       "2021-01-07  265.899994  271.609985  264.779999  268.739990  15789800\n",
       "...                ...         ...         ...         ...       ...\n",
       "2021-04-26  303.339996  305.799988  301.559998  303.040009  16172600\n",
       "2021-04-27  304.279999  305.339996  301.109985  303.570007  15309300\n",
       "2021-04-28  307.359985  310.920013  305.369995  307.100006  33907200\n",
       "2021-04-29  330.119995  331.809998  321.609985  329.510010  56526800\n",
       "2021-04-30  326.140015  329.820007  324.500000  325.079987  26322000\n",
       "\n",
       "[83 rows x 5 columns]"
      ],
      "text/html": "<div>\n<style scoped>\n    .dataframe tbody tr th:only-of-type {\n        vertical-align: middle;\n    }\n\n    .dataframe tbody tr th {\n        vertical-align: top;\n    }\n\n    .dataframe thead th {\n        text-align: right;\n    }\n</style>\n<table border=\"1\" class=\"dataframe\">\n  <thead>\n    <tr style=\"text-align: right;\">\n      <th></th>\n      <th>Open</th>\n      <th>High</th>\n      <th>Low</th>\n      <th>Close</th>\n      <th>Volume</th>\n    </tr>\n    <tr>\n      <th>Date</th>\n      <th></th>\n      <th></th>\n      <th></th>\n      <th></th>\n      <th></th>\n    </tr>\n  </thead>\n  <tbody>\n    <tr>\n      <th>2020-12-31</th>\n      <td>272.000000</td>\n      <td>277.089996</td>\n      <td>269.809998</td>\n      <td>273.160004</td>\n      <td>12900400</td>\n    </tr>\n    <tr>\n      <th>2021-01-04</th>\n      <td>274.779999</td>\n      <td>275.000000</td>\n      <td>265.200012</td>\n      <td>268.940002</td>\n      <td>15106100</td>\n    </tr>\n    <tr>\n      <th>2021-01-05</th>\n      <td>268.290009</td>\n      <td>272.399994</td>\n      <td>268.209991</td>\n      <td>270.970001</td>\n      <td>9871600</td>\n    </tr>\n    <tr>\n      <th>2021-01-06</th>\n      <td>262.000000</td>\n      <td>267.750000</td>\n      <td>260.010010</td>\n      <td>263.309998</td>\n      <td>24354100</td>\n    </tr>\n    <tr>\n      <th>2021-01-07</th>\n      <td>265.899994</td>\n      <td>271.609985</td>\n      <td>264.779999</td>\n      <td>268.739990</td>\n      <td>15789800</td>\n    </tr>\n    <tr>\n      <th>...</th>\n      <td>...</td>\n      <td>...</td>\n      <td>...</td>\n      <td>...</td>\n      <td>...</td>\n    </tr>\n    <tr>\n      <th>2021-04-26</th>\n      <td>303.339996</td>\n      <td>305.799988</td>\n      <td>301.559998</td>\n      <td>303.040009</td>\n      <td>16172600</td>\n    </tr>\n    <tr>\n      <th>2021-04-27</th>\n      <td>304.279999</td>\n      <td>305.339996</td>\n      <td>301.109985</td>\n      <td>303.570007</td>\n      <td>15309300</td>\n    </tr>\n    <tr>\n      <th>2021-04-28</th>\n      <td>307.359985</td>\n      <td>310.920013</td>\n      <td>305.369995</td>\n      <td>307.100006</td>\n      <td>33907200</td>\n    </tr>\n    <tr>\n      <th>2021-04-29</th>\n      <td>330.119995</td>\n      <td>331.809998</td>\n      <td>321.609985</td>\n      <td>329.510010</td>\n      <td>56526800</td>\n    </tr>\n    <tr>\n      <th>2021-04-30</th>\n      <td>326.140015</td>\n      <td>329.820007</td>\n      <td>324.500000</td>\n      <td>325.079987</td>\n      <td>26322000</td>\n    </tr>\n  </tbody>\n</table>\n<p>83 rows × 5 columns</p>\n</div>"
     },
     "metadata": {},
     "execution_count": 38
    }
   ],
   "source": [
    "df_yahoo"
   ]
  },
  {
   "cell_type": "code",
   "execution_count": null,
   "metadata": {},
   "outputs": [],
   "source": []
  }
 ]
}